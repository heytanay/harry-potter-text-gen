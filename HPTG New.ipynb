{
  "nbformat": 4,
  "nbformat_minor": 0,
  "metadata": {
    "colab": {
      "name": "HPTG.ipynb",
      "version": "0.3.2",
      "provenance": [],
      "collapsed_sections": [],
      "include_colab_link": true
    },
    "kernelspec": {
      "name": "python3",
      "display_name": "Python 3"
    },
    "accelerator": "GPU"
  },
  "cells": [
    {
      "cell_type": "markdown",
      "metadata": {
        "id": "view-in-github",
        "colab_type": "text"
      },
      "source": [
        "<a href=\"https://colab.research.google.com/github/heytanay/harry-potter-text-gen/blob/master/HPTG%20New.ipynb\" target=\"_parent\"><img src=\"https://colab.research.google.com/assets/colab-badge.svg\" alt=\"Open In Colab\"/></a>"
      ]
    },
    {
      "cell_type": "code",
      "metadata": {
        "id": "sDc3Qa0yC-1j",
        "colab_type": "code",
        "colab": {}
      },
      "source": [
        "from google.colab import files\n",
        "from tensorflow.keras.preprocessing.sequence import pad_sequences\n",
        "from tensorflow.keras.preprocessing.text import Tokenizer\n",
        "from tensorflow.keras.layers import LSTM, Dense, Embedding, Dropout, Bidirectional\n",
        "from tensorflow.keras.models import Sequential\n",
        "from tensorflow.keras.optimizers import Adam\n",
        "from tensorflow.keras import regularizers\n",
        "import tensorflow.keras.utils as ku\n",
        "from tensorflow.keras.models import load_model\n",
        "import numpy as np\n",
        "from matplotlib import pyplot as plt"
      ],
      "execution_count": 0,
      "outputs": []
    },
    {
      "cell_type": "code",
      "metadata": {
        "id": "oMH0H2RaDGtr",
        "colab_type": "code",
        "outputId": "2436ea84-6d81-4ee0-cfc6-5bc8c4559ec7",
        "colab": {
          "base_uri": "https://localhost:8080/",
          "height": 202
        }
      },
      "source": [
        "# # Upload the text\n",
        "# files.upload()\n",
        "\n",
        "!wget https://raw.githubusercontent.com/pprzetacznik/nlp-n-grams/master/train_corpus/Harry%20Potter%203%20Prisoner%20of%20Azkaban.txt"
      ],
      "execution_count": 2,
      "outputs": [
        {
          "output_type": "stream",
          "text": [
            "--2019-09-01 18:29:55--  https://raw.githubusercontent.com/pprzetacznik/nlp-n-grams/master/train_corpus/Harry%20Potter%203%20Prisoner%20of%20Azkaban.txt\n",
            "Resolving raw.githubusercontent.com (raw.githubusercontent.com)... 151.101.0.133, 151.101.64.133, 151.101.128.133, ...\n",
            "Connecting to raw.githubusercontent.com (raw.githubusercontent.com)|151.101.0.133|:443... connected.\n",
            "HTTP request sent, awaiting response... 200 OK\n",
            "Length: 611601 (597K) [text/plain]\n",
            "Saving to: ‘Harry Potter 3 Prisoner of Azkaban.txt’\n",
            "\n",
            "\r          Harry Pot   0%[                    ]       0  --.-KB/s               \rHarry Potter 3 Pris 100%[===================>] 597.27K  --.-KB/s    in 0.01s   \n",
            "\n",
            "2019-09-01 18:29:55 (46.8 MB/s) - ‘Harry Potter 3 Prisoner of Azkaban.txt’ saved [611601/611601]\n",
            "\n"
          ],
          "name": "stdout"
        }
      ]
    },
    {
      "cell_type": "code",
      "metadata": {
        "id": "gMg2P53HDJWa",
        "colab_type": "code",
        "colab": {}
      },
      "source": [
        "data = open('/content/Harry Potter 3 Prisoner of Azkaban.txt').read()"
      ],
      "execution_count": 0,
      "outputs": []
    },
    {
      "cell_type": "code",
      "metadata": {
        "id": "3WzEhZ8CDU3u",
        "colab_type": "code",
        "colab": {}
      },
      "source": [
        "# Split the Data based on the two present new line characters after each line break. Most documents have a single new line character, but this one has 2.\n",
        "# Also, drop first few elements like title and author name and chapter number as much as possible\n",
        "corpus = data.lower().split('\\n')\n",
        "corpus = data.lower().split('\\n')\n",
        "del corpus[0:4]\n",
        "# print(corpus)"
      ],
      "execution_count": 0,
      "outputs": []
    },
    {
      "cell_type": "code",
      "metadata": {
        "id": "sYU1y9qrDoPj",
        "colab_type": "code",
        "colab": {}
      },
      "source": [
        "corpus = corpus[0:100]\n",
        "# print(corpus)"
      ],
      "execution_count": 0,
      "outputs": []
    },
    {
      "cell_type": "code",
      "metadata": {
        "id": "srcXbBPoDYoD",
        "colab_type": "code",
        "colab": {}
      },
      "source": [
        "# Start doing NLP stuff\n",
        "tokenizer = Tokenizer()\n",
        "\n",
        "# Fit on our corpus\n",
        "tokenizer.fit_on_texts(corpus)\n",
        "total_words = len(tokenizer.word_index) + 1\n",
        "\n",
        "# Create input sequence using list of tokens\n",
        "input_sequence = list()\n",
        "\n",
        "for line in corpus:\n",
        "  token_list = tokenizer.texts_to_sequences([line])[0]\n",
        "  \n",
        "  for i in range(1, len(token_list)):\n",
        "    n_gram_sequence = token_list[:i+1]\n",
        "    input_sequence.append(n_gram_sequence)\n",
        "    \n",
        "\n",
        "# Pad sequences\n",
        "max_seq_len = max([len(x) for x in input_sequence])\n",
        "input_sequence = np.array(pad_sequences(input_sequence, maxlen=max_seq_len, padding='pre'))\n",
        "\n",
        "# Create Predictors and label\n",
        "predictors, label = input_sequence[:, :-1], input_sequence[:, -1]\n",
        "\n",
        "label = ku.to_categorical(label, num_classes=total_words)"
      ],
      "execution_count": 0,
      "outputs": []
    },
    {
      "cell_type": "code",
      "metadata": {
        "id": "4oX5R0eXDc6a",
        "colab_type": "code",
        "outputId": "c5347f2a-6533-4652-9382-8b8c74614b08",
        "colab": {
          "base_uri": "https://localhost:8080/",
          "height": 370
        }
      },
      "source": [
        "# Let's build the model\n",
        "\n",
        "model = Sequential()\n",
        "\n",
        "model.add(Embedding(total_words, 100, input_length=max_seq_len-1))\n",
        "model.add(Bidirectional(LSTM(550, return_sequences=True)))\n",
        "model.add(Dropout(0.2))\n",
        "model.add(LSTM(500))\n",
        "model.add(Dense(total_words/2, activation='relu', kernel_regularizer=regularizers.l2(0.01)))\n",
        "model.add(Dense(total_words, activation='softmax'))\n",
        "model.compile(loss='categorical_crossentropy', optimizer='adam', metrics=['accuracy'])\n",
        "\n",
        "print(model.summary())"
      ],
      "execution_count": 14,
      "outputs": [
        {
          "output_type": "stream",
          "text": [
            "Model: \"sequential_1\"\n",
            "_________________________________________________________________\n",
            "Layer (type)                 Output Shape              Param #   \n",
            "=================================================================\n",
            "embedding_1 (Embedding)      (None, 14, 100)           41200     \n",
            "_________________________________________________________________\n",
            "bidirectional_1 (Bidirection (None, 14, 1100)          2864400   \n",
            "_________________________________________________________________\n",
            "dropout_1 (Dropout)          (None, 14, 1100)          0         \n",
            "_________________________________________________________________\n",
            "lstm_3 (LSTM)                (None, 500)               3202000   \n",
            "_________________________________________________________________\n",
            "dense_2 (Dense)              (None, 206)               103206    \n",
            "_________________________________________________________________\n",
            "dense_3 (Dense)              (None, 412)               85284     \n",
            "=================================================================\n",
            "Total params: 6,296,090\n",
            "Trainable params: 6,296,090\n",
            "Non-trainable params: 0\n",
            "_________________________________________________________________\n",
            "None\n"
          ],
          "name": "stdout"
        }
      ]
    },
    {
      "cell_type": "code",
      "metadata": {
        "id": "F4aUxSCvEUcX",
        "colab_type": "code",
        "outputId": "166d64e1-38cf-4e9d-eb67-6d8dcab5d424",
        "colab": {
          "base_uri": "https://localhost:8080/",
          "height": 1000
        }
      },
      "source": [
        "history = model.fit(predictors, label, epochs=100, verbose=2)"
      ],
      "execution_count": 19,
      "outputs": [
        {
          "output_type": "stream",
          "text": [
            "Epoch 1/100\n",
            "805/805 - 2s - loss: 2.5010 - acc: 0.4273\n",
            "Epoch 2/100\n",
            "805/805 - 2s - loss: 2.4256 - acc: 0.4273\n",
            "Epoch 3/100\n",
            "805/805 - 2s - loss: 2.3692 - acc: 0.4311\n",
            "Epoch 4/100\n",
            "805/805 - 2s - loss: 2.3068 - acc: 0.4522\n",
            "Epoch 5/100\n",
            "805/805 - 2s - loss: 2.2773 - acc: 0.4720\n",
            "Epoch 6/100\n",
            "805/805 - 2s - loss: 2.2848 - acc: 0.4634\n",
            "Epoch 7/100\n",
            "805/805 - 2s - loss: 2.2010 - acc: 0.4932\n",
            "Epoch 8/100\n",
            "805/805 - 2s - loss: 2.1771 - acc: 0.4857\n",
            "Epoch 9/100\n",
            "805/805 - 2s - loss: 2.1410 - acc: 0.5081\n",
            "Epoch 10/100\n",
            "805/805 - 2s - loss: 2.1300 - acc: 0.5006\n",
            "Epoch 11/100\n",
            "805/805 - 2s - loss: 2.0667 - acc: 0.5242\n",
            "Epoch 12/100\n",
            "805/805 - 2s - loss: 2.0323 - acc: 0.5441\n",
            "Epoch 13/100\n",
            "805/805 - 2s - loss: 1.9798 - acc: 0.5578\n",
            "Epoch 14/100\n",
            "805/805 - 2s - loss: 1.9341 - acc: 0.5739\n",
            "Epoch 15/100\n",
            "805/805 - 2s - loss: 1.9010 - acc: 0.5876\n",
            "Epoch 16/100\n",
            "805/805 - 2s - loss: 1.9382 - acc: 0.5627\n",
            "Epoch 17/100\n",
            "805/805 - 2s - loss: 1.8617 - acc: 0.6037\n",
            "Epoch 18/100\n",
            "805/805 - 2s - loss: 1.8253 - acc: 0.6236\n",
            "Epoch 19/100\n",
            "805/805 - 2s - loss: 1.8111 - acc: 0.5975\n",
            "Epoch 20/100\n",
            "805/805 - 2s - loss: 1.7583 - acc: 0.6323\n",
            "Epoch 21/100\n",
            "805/805 - 2s - loss: 1.7288 - acc: 0.6348\n",
            "Epoch 22/100\n",
            "805/805 - 2s - loss: 1.7234 - acc: 0.6398\n",
            "Epoch 23/100\n",
            "805/805 - 2s - loss: 1.7074 - acc: 0.6460\n",
            "Epoch 24/100\n",
            "805/805 - 2s - loss: 1.6486 - acc: 0.6783\n",
            "Epoch 25/100\n",
            "805/805 - 2s - loss: 1.5875 - acc: 0.6820\n",
            "Epoch 26/100\n",
            "805/805 - 2s - loss: 1.5664 - acc: 0.6969\n",
            "Epoch 27/100\n",
            "805/805 - 2s - loss: 1.5231 - acc: 0.7267\n",
            "Epoch 28/100\n",
            "805/805 - 2s - loss: 1.5109 - acc: 0.7143\n",
            "Epoch 29/100\n",
            "805/805 - 2s - loss: 1.5094 - acc: 0.7242\n",
            "Epoch 30/100\n",
            "805/805 - 2s - loss: 1.4509 - acc: 0.7491\n",
            "Epoch 31/100\n",
            "805/805 - 2s - loss: 1.4304 - acc: 0.7553\n",
            "Epoch 32/100\n",
            "805/805 - 2s - loss: 1.3951 - acc: 0.7640\n",
            "Epoch 33/100\n",
            "805/805 - 2s - loss: 1.3671 - acc: 0.7839\n",
            "Epoch 34/100\n",
            "805/805 - 2s - loss: 1.3238 - acc: 0.7888\n",
            "Epoch 35/100\n",
            "805/805 - 2s - loss: 1.3061 - acc: 0.8037\n",
            "Epoch 36/100\n",
            "805/805 - 2s - loss: 1.2671 - acc: 0.8311\n",
            "Epoch 37/100\n",
            "805/805 - 2s - loss: 1.2273 - acc: 0.8385\n",
            "Epoch 38/100\n",
            "805/805 - 2s - loss: 1.2411 - acc: 0.8298\n",
            "Epoch 39/100\n",
            "805/805 - 2s - loss: 1.2216 - acc: 0.8311\n",
            "Epoch 40/100\n",
            "805/805 - 2s - loss: 1.1803 - acc: 0.8472\n",
            "Epoch 41/100\n",
            "805/805 - 2s - loss: 1.1515 - acc: 0.8621\n",
            "Epoch 42/100\n",
            "805/805 - 2s - loss: 1.1112 - acc: 0.8646\n",
            "Epoch 43/100\n",
            "805/805 - 2s - loss: 1.0765 - acc: 0.8857\n",
            "Epoch 44/100\n",
            "805/805 - 2s - loss: 1.0509 - acc: 0.8795\n",
            "Epoch 45/100\n",
            "805/805 - 2s - loss: 1.0387 - acc: 0.8783\n",
            "Epoch 46/100\n",
            "805/805 - 2s - loss: 1.0023 - acc: 0.8907\n",
            "Epoch 47/100\n",
            "805/805 - 2s - loss: 0.9830 - acc: 0.8969\n",
            "Epoch 48/100\n",
            "805/805 - 2s - loss: 0.9566 - acc: 0.9031\n",
            "Epoch 49/100\n",
            "805/805 - 2s - loss: 0.9750 - acc: 0.8981\n",
            "Epoch 50/100\n",
            "805/805 - 2s - loss: 0.9605 - acc: 0.9068\n",
            "Epoch 51/100\n",
            "805/805 - 2s - loss: 0.9236 - acc: 0.9130\n",
            "Epoch 52/100\n",
            "805/805 - 2s - loss: 0.8922 - acc: 0.9130\n",
            "Epoch 53/100\n",
            "805/805 - 2s - loss: 0.9003 - acc: 0.9093\n",
            "Epoch 54/100\n",
            "805/805 - 2s - loss: 0.8930 - acc: 0.9143\n",
            "Epoch 55/100\n",
            "805/805 - 2s - loss: 0.8587 - acc: 0.9230\n",
            "Epoch 56/100\n",
            "805/805 - 2s - loss: 0.8219 - acc: 0.9391\n",
            "Epoch 57/100\n",
            "805/805 - 2s - loss: 0.7996 - acc: 0.9491\n",
            "Epoch 58/100\n",
            "805/805 - 2s - loss: 0.7954 - acc: 0.9404\n",
            "Epoch 59/100\n",
            "805/805 - 2s - loss: 0.7966 - acc: 0.9391\n",
            "Epoch 60/100\n",
            "805/805 - 2s - loss: 0.7725 - acc: 0.9478\n",
            "Epoch 61/100\n",
            "805/805 - 2s - loss: 0.8667 - acc: 0.9193\n",
            "Epoch 62/100\n",
            "805/805 - 2s - loss: 0.8799 - acc: 0.9081\n",
            "Epoch 63/100\n",
            "805/805 - 2s - loss: 0.8243 - acc: 0.9193\n",
            "Epoch 64/100\n",
            "805/805 - 2s - loss: 0.8065 - acc: 0.9379\n",
            "Epoch 65/100\n",
            "805/805 - 2s - loss: 0.7498 - acc: 0.9478\n",
            "Epoch 66/100\n",
            "805/805 - 2s - loss: 0.7165 - acc: 0.9491\n",
            "Epoch 67/100\n",
            "805/805 - 2s - loss: 0.6878 - acc: 0.9466\n",
            "Epoch 68/100\n",
            "805/805 - 2s - loss: 0.6821 - acc: 0.9528\n",
            "Epoch 69/100\n",
            "805/805 - 2s - loss: 0.6613 - acc: 0.9565\n",
            "Epoch 70/100\n",
            "805/805 - 2s - loss: 0.6513 - acc: 0.9540\n",
            "Epoch 71/100\n",
            "805/805 - 2s - loss: 0.6328 - acc: 0.9528\n",
            "Epoch 72/100\n",
            "805/805 - 2s - loss: 0.6138 - acc: 0.9627\n",
            "Epoch 73/100\n",
            "805/805 - 2s - loss: 0.6119 - acc: 0.9627\n",
            "Epoch 74/100\n",
            "805/805 - 2s - loss: 0.5969 - acc: 0.9615\n",
            "Epoch 75/100\n",
            "805/805 - 2s - loss: 0.5947 - acc: 0.9602\n",
            "Epoch 76/100\n",
            "805/805 - 2s - loss: 0.5836 - acc: 0.9602\n",
            "Epoch 77/100\n",
            "805/805 - 2s - loss: 0.5638 - acc: 0.9665\n",
            "Epoch 78/100\n",
            "805/805 - 2s - loss: 0.5575 - acc: 0.9665\n",
            "Epoch 79/100\n",
            "805/805 - 2s - loss: 0.5517 - acc: 0.9627\n",
            "Epoch 80/100\n",
            "805/805 - 2s - loss: 0.5503 - acc: 0.9615\n",
            "Epoch 81/100\n",
            "805/805 - 2s - loss: 0.5316 - acc: 0.9652\n",
            "Epoch 82/100\n",
            "805/805 - 2s - loss: 0.5481 - acc: 0.9665\n",
            "Epoch 83/100\n",
            "805/805 - 2s - loss: 0.5339 - acc: 0.9652\n",
            "Epoch 84/100\n",
            "805/805 - 2s - loss: 0.5644 - acc: 0.9590\n",
            "Epoch 85/100\n",
            "805/805 - 2s - loss: 0.5334 - acc: 0.9640\n",
            "Epoch 86/100\n",
            "805/805 - 2s - loss: 0.5111 - acc: 0.9652\n",
            "Epoch 87/100\n",
            "805/805 - 2s - loss: 0.5103 - acc: 0.9578\n",
            "Epoch 88/100\n",
            "805/805 - 2s - loss: 0.4981 - acc: 0.9689\n",
            "Epoch 89/100\n",
            "805/805 - 2s - loss: 0.4847 - acc: 0.9689\n",
            "Epoch 90/100\n",
            "805/805 - 2s - loss: 0.4757 - acc: 0.9689\n",
            "Epoch 91/100\n",
            "805/805 - 2s - loss: 0.4768 - acc: 0.9652\n",
            "Epoch 92/100\n",
            "805/805 - 2s - loss: 0.4616 - acc: 0.9689\n",
            "Epoch 93/100\n",
            "805/805 - 2s - loss: 0.4558 - acc: 0.9665\n",
            "Epoch 94/100\n",
            "805/805 - 2s - loss: 0.4526 - acc: 0.9665\n",
            "Epoch 95/100\n",
            "805/805 - 2s - loss: 0.4479 - acc: 0.9702\n",
            "Epoch 96/100\n",
            "805/805 - 2s - loss: 0.4399 - acc: 0.9665\n",
            "Epoch 97/100\n",
            "805/805 - 2s - loss: 0.4410 - acc: 0.9627\n",
            "Epoch 98/100\n",
            "805/805 - 2s - loss: 0.4302 - acc: 0.9727\n",
            "Epoch 99/100\n",
            "805/805 - 2s - loss: 0.4244 - acc: 0.9689\n",
            "Epoch 100/100\n",
            "805/805 - 2s - loss: 0.4237 - acc: 0.9652\n"
          ],
          "name": "stdout"
        }
      ]
    },
    {
      "cell_type": "code",
      "metadata": {
        "id": "Izu3e7LNEX72",
        "colab_type": "code",
        "colab": {}
      },
      "source": [
        "model.save('nhtpg.h5')\n",
        "# from google.colab import files\n",
        "# files.download('nhtpg.h5')"
      ],
      "execution_count": 0,
      "outputs": []
    },
    {
      "cell_type": "code",
      "metadata": {
        "id": "Cu2Ohyne2Rdm",
        "colab_type": "code",
        "outputId": "b98f3658-ddea-415a-86fa-7138e00ad1f7",
        "colab": {
          "base_uri": "https://localhost:8080/",
          "height": 545
        }
      },
      "source": [
        "import matplotlib.pyplot as plt\n",
        "acc = history.history['acc']\n",
        "loss = history.history['loss']\n",
        "\n",
        "epochs = range(len(acc))\n",
        "\n",
        "plt.plot(epochs, acc, 'b', label='Training accuracy')\n",
        "plt.title('Training accuracy')\n",
        "\n",
        "plt.figure()\n",
        "\n",
        "plt.plot(epochs, loss, 'b', label='Training Loss')\n",
        "plt.title('Training loss')\n",
        "plt.legend()\n",
        "\n",
        "plt.show()"
      ],
      "execution_count": 20,
      "outputs": [
        {
          "output_type": "display_data",
          "data": {
            "image/png": "[encoded data removed]",
            "text/plain": [
              "<Figure size 432x288 with 1 Axes>"
            ]
          },
          "metadata": {
            "tags": []
          }
        },
        {
          "output_type": "display_data",
          "data": {
            "image/png": "[encoded data removed]",
            "text/plain": [
              "<Figure size 432x288 with 1 Axes>"
            ]
          },
          "metadata": {
            "tags": []
          }
        }
      ]
    },
    {
      "cell_type": "code",
      "metadata": {
        "id": "UyEjkKdl9fin",
        "colab_type": "code",
        "colab": {
          "base_uri": "https://localhost:8080/",
          "height": 34
        },
        "outputId": "88eb0c6c-2a51-402f-8e89-9a3f879c0880"
      },
      "source": [
        "seed_text = \"Harry potter is a\"\n",
        "next_words = 9\n",
        "  \n",
        "for _ in range(next_words):\n",
        "\ttoken_list = tokenizer.texts_to_sequences([seed_text])[0]\n",
        "\ttoken_list = pad_sequences([token_list], maxlen=max_seq_len-1, padding='pre')\n",
        "\tpredicted = model.predict_classes(token_list, verbose=0)\n",
        "\toutput_word = \"\"\n",
        "\tfor word, index in tokenizer.word_index.items():\n",
        "\t\tif index == predicted:\n",
        "\t\t\toutput_word = word\n",
        "\t\t\tbreak\n",
        "\tseed_text += \" \" + output_word\n",
        "print(seed_text)"
      ],
      "execution_count": 24,
      "outputs": [
        {
          "output_type": "stream",
          "text": [
            "Harry potter is a highly unusual boy in many ways for one thing\n"
          ],
          "name": "stdout"
        }
      ]
    },
    {
      "cell_type": "code",
      "metadata": {
        "id": "kR54cbwK9pmi",
        "colab_type": "code",
        "colab": {}
      },
      "source": [
        "# Retrain the model\n",
        "model = load_model('nhtpg.h5')"
      ],
      "execution_count": 0,
      "outputs": []
    },
    {
      "cell_type": "code",
      "metadata": {
        "id": "Vs0TlYq-I6c5",
        "colab_type": "code",
        "outputId": "fc248594-f10e-4756-c778-b07d88be11e3",
        "colab": {
          "base_uri": "https://localhost:8080/",
          "height": 34
        }
      },
      "source": [
        "history = model.fit(predictors, label, epochs=1, verbose=1)"
      ],
      "execution_count": 0,
      "outputs": [
        {
          "output_type": "stream",
          "text": [
            "13798/13798 [==============================] - 56s 4ms/sample - loss: 0.5304 - acc: 0.9089\n"
          ],
          "name": "stdout"
        }
      ]
    },
    {
      "cell_type": "code",
      "metadata": {
        "id": "FsmfgVBzfMWF",
        "colab_type": "code",
        "outputId": "534ee5a4-6698-4d6d-9ab9-6a1983ac5e40",
        "colab": {
          "base_uri": "https://localhost:8080/",
          "height": 545
        }
      },
      "source": [
        "import matplotlib.pyplot as plt\n",
        "acc = history.history['acc']\n",
        "loss = history.history['loss']\n",
        "\n",
        "epochs = range(len(acc))\n",
        "\n",
        "plt.plot(epochs, acc, 'b', label='Training accuracy')\n",
        "plt.title('Training accuracy')\n",
        "\n",
        "plt.figure()\n",
        "\n",
        "plt.plot(epochs, loss, 'b', label='Training Loss')\n",
        "plt.title('Training loss')\n",
        "plt.legend()\n",
        "\n",
        "plt.show()"
      ],
      "execution_count": 0,
      "outputs": [
        {
          "output_type": "display_data",
          "data": {
            "image/png": "[encoded data removed]",
            "text/plain": [
              "<Figure size 432x288 with 1 Axes>"
            ]
          },
          "metadata": {
            "tags": []
          }
        },
        {
          "output_type": "display_data",
          "data": {
            "image/png": "[encoded data removed]",
            "text/plain": [
              "<Figure size 432x288 with 1 Axes>"
            ]
          },
          "metadata": {
            "tags": []
          }
        }
      ]
    },
    {
      "cell_type": "code",
      "metadata": {
        "id": "-7vVrsC4I-Ez",
        "colab_type": "code",
        "colab": {}
      },
      "source": [
        "model.save('new_htpg.h5')\n",
        "# files.download('nhtpg.h5')"
      ],
      "execution_count": 0,
      "outputs": []
    },
    {
      "cell_type": "code",
      "metadata": {
        "id": "KhvwzAjRKym0",
        "colab_type": "code",
        "outputId": "92dd2dde-402d-4308-d4bc-70ebe0585d23",
        "colab": {
          "base_uri": "https://localhost:8080/",
          "height": 54
        }
      },
      "source": [
        "seed_text = \"Harry potter and the\"\n",
        "next_words = 1000\n",
        "  \n",
        "for _ in range(next_words):\n",
        "\ttoken_list = tokenizer.texts_to_sequences([seed_text])[0]\n",
        "\ttoken_list = pad_sequences([token_list], maxlen=max_seq_len-1, padding='pre')\n",
        "\tpredicted = model.predict_classes(token_list, verbose=0)\n",
        "\toutput_word = \"\"\n",
        "\tfor word, index in tokenizer.word_index.items():\n",
        "\t\tif index == predicted:\n",
        "\t\t\toutput_word = word\n",
        "\t\t\tbreak\n",
        "\tseed_text += \" \" + output_word\n",
        "print(seed_text)"
      ],
      "execution_count": 0,
      "outputs": [
        {
          "output_type": "stream",
          "text": [
            "Harry potter and the small red bottle into ron's hand and stop worrying crookshanks harry we said though a death omen he make nasty best rolled heavy people to his face it could be able to drag his trunk again and read other he other a crowd boy's turned swelling better other other starry country other conductor he isn't if you had a enclosed of other other hermione happen up the crowd got the door open a small wand hogwarts buses best in other a crowd gutter opened back on his forehead left me on other uncle vernon had better days days buses days boy's doors under the front page crowd archway return visit the way to the room under the dursleys still still made walking archway back fortune country like that she burped had been criticized by tom like a real doors make visit daily photograph better harry straightened up like a salami hair not just to think it had been a crowd to a crowd boy's fortune telling nasty days better better are archway to expand her tiny crowd would be international gone a completely different crowd trash fortune other better weasley other looking thinner days some crowd and he was a crowd boy's turned down out of the luminous bottle of the page crowd of the lemon world best muggle trash point way back to better days fortune said archway fortune to remember my enclosed of her crowd boy's country conductor a normal express she been passage in other other joined fortune and we unusual tom him had followed you best you do round other days a highly unusual boy in back of summer is so crookshanks that they've station taken nearly bulldogs she archway believe other other buses archway country back to the ink of the enclosed permission form to boy's best head days ron make other buses we don't conductor a tight best nasty time it's not funny fortune gone into the leaky cauldron he had a sudden way him or doors way unusual though he time it was the crowd to call the summer station on his stunned dursleys nasty believe it archway downstairs followed a same fastenings of him over so they are they 'ad been buses seemed first time fortune to conductor archway shops archway shops in the bed full trousers of the crowd ride better the door doors starry other owner unfortunate magic on privet drive only a few years later she had had been sitting international better be other a very days are someone make better other yourself to do you again you'll archway shops in the door that bottle into that black better better better conductor they back about conductor back toward the door of better better give you heavy bed but unusual they better better sign something or years to conductor so they nasty and no days skinny for his trunk and any sighting of dining room harry eagerly harry thought the most appeared down to talk fortune to begin brandy said harry choosing his aunt harry happen in country international happen better rest of heavy better do the front doors starry other enclosed unusual living living bottle bottle walls bottle hand he still days left the kitchen occasion archway heavy country round other other other other better have i had decree it harry better conductor inside ron other ron stop quidditch other he would archway in cages were watching a family there's him there's bow or owl into hogwarts he had archway interestedly as the witch so other decree nasty are why allowed silence swelling as uncle up better better conductor he better said harry to the crowd boy's enclosed bottle fortune buses better better cross to be a very wings and forbid him other a enclosed enormous ruddy world she had given him station they have change archway international other still pretended to be in the last muggle crowd photograph harry to daily prophet best if he was archway weird letter feeling she yelled silence return swelling and then he had never better be other better they conductor unusual they best back fortune fortune was old ripper they set into other aunt marge had been dumped of his crowd and a moment it reached it archway boy's better conductor magic to get believe other better archway down onto bus we swelling didn't best skip skidded able visit other conductor silence matted sleep country muggle curse instead of him on fudge archway fortune other other stop nasty better visit swelling country magic better archway other other other conductor other a hundred days roared in his crowd boy's better other conductor other days archway walking or rather a stray cat or conductor they in men in back unusual trash old sleep out of the dead of sleep at archway fortune buses archway international archway weird armchair fortune stranded better fortune fortune archway point fortune first witch to diagon better uncle buses made other sink without you back fortune bus other better s percy's head like a tent a flashlight in one hand and other passed archway from men direction of better fortune he fortune or decree matted country boy's said back international archway weird unusual unusual fortune harry would bad rebounded honed to aerodynamic perfection giving days better include country for the same minister of magic himself to country in a lot double ended newts over unusual showed a better conductor country fortune fortune gone on any of her little finger sticking fortune and tipped his books and trash purple he'd days flying to clip on him harry muggle world isn't when you'd been a point harry knew fortune fortune fortune buses silence other in a swelling didn't stop the paper at other he small one of the dursleys better start of the crowd and read a birthday card for boy had happened when harry was a large manager orange back whichever way he looked other conductor conductor a best boy outside dudley differently once you'll understand happen to conductor he archway\n"
          ],
          "name": "stdout"
        }
      ]
    },
    {
      "cell_type": "code",
      "metadata": {
        "id": "iTgTa6BlenZC",
        "colab_type": "code",
        "colab": {}
      },
      "source": [
        ""
      ],
      "execution_count": 0,
      "outputs": []
    }
  ]
}